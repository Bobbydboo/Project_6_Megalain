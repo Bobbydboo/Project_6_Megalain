{
 "cells": [
  {
   "cell_type": "markdown",
   "metadata": {},
   "source": [
    "# Введение\n",
    "\n",
    "Оператор мобильной связи \"Мегалайн\" выяснил, что многие из его клиентов продолжают пользоваться архивными тарифами. Для улучшения предложений и удовлетворения потребностей клиентов, \"Мегалайн\" решил построить систему, которая сможет анализировать поведение клиентов и предлагать им наиболее подходящий тариф: \"Смарт\" или \"Ультра\". В рамках данного проекта у нас есть данные о поведении клиентов, которые уже перешли на один из этих тарифов.\n",
    "\n",
    "Целью проекта является построение модели для задачи классификации, которая будет определять наиболее подходящий тариф для клиента на основе его поведения. Основной метрикой успеха проекта является точность (accuracy) модели, которую необходимо увеличить до минимум 0.75.\n",
    "\n",
    "Для достижения поставленной цели, мы разделим исходные данные на обучающую, валидационную и тестовую выборки. Затем мы исследуем качество различных моделей, проводя эксперименты с разными гиперпараметрами. В итоге, мы проверим качество нашей модели на тестовой выборке и сделаем выводы о ее эффективности.\n",
    "\n",
    "Дополнительным заданием является проверка модели на вменяемость, что также будет учтено в исследовании.\n",
    "\n",
    "# Описание данных\n",
    "\n",
    "Набор данных представляет собой информацию о поведении одного пользователя за месяц. Для каждого пользователя известны следующие параметры:\n",
    "\n",
    "- `calls` — количество звонков,\n",
    "- `minutes` — суммарная длительность звонков в минутах,\n",
    "- `messages` — количество SMS-сообщений,\n",
    "- `mb_used` — объем израсходованного интернет-трафика в мегабайтах,\n",
    "- `is_ultra` — тип используемого тарифа (\"Ультра\" — 1, \"Смарт\" — 0)."
   ]
  },
  {
   "cell_type": "markdown",
   "metadata": {},
   "source": [
    "## Импорт библиотек"
   ]
  },
  {
   "cell_type": "code",
   "execution_count": 31,
   "metadata": {},
   "outputs": [],
   "source": [
    "RANDOM_STATE=12345\n",
    "import pandas as pd\n",
    "import phik\n",
    "from phik.report import plot_correlation_matrix\n",
    "from phik import report\n",
    "import matplotlib\n",
    "import matplotlib.pyplot as plt\n",
    "from sklearn.model_selection import train_test_split\n",
    "from sklearn.preprocessing import StandardScaler\n",
    "from sklearn.model_selection import train_test_split\n",
    "from sklearn.linear_model import LogisticRegression\n",
    "from sklearn.tree import DecisionTreeClassifier\n",
    "from sklearn.ensemble import RandomForestClassifier\n",
    "from sklearn.metrics import accuracy_score, precision_score, recall_score, f1_score\n",
    "from sklearn.dummy import DummyClassifier"
   ]
  },
  {
   "cell_type": "markdown",
   "metadata": {},
   "source": [
    "## Импорт данных"
   ]
  },
  {
   "cell_type": "code",
   "execution_count": 4,
   "metadata": {},
   "outputs": [],
   "source": [
    "#Импорт данных\n",
    "try:\n",
    "    df=pd.read_csv('/datasets/users_behavior.csv',sep=',')\n",
    "except:\n",
    "    df=pd.read_csv(r'C:\\Users\\Admin\\Desktop\\mch\\users_behavior.csv',sep=',')"
   ]
  },
  {
   "cell_type": "markdown",
   "metadata": {},
   "source": [
    "## Выбор признаков"
   ]
  },
  {
   "cell_type": "code",
   "execution_count": 5,
   "metadata": {},
   "outputs": [
    {
     "data": {
      "text/html": [
       "<div>\n",
       "<style scoped>\n",
       "    .dataframe tbody tr th:only-of-type {\n",
       "        vertical-align: middle;\n",
       "    }\n",
       "\n",
       "    .dataframe tbody tr th {\n",
       "        vertical-align: top;\n",
       "    }\n",
       "\n",
       "    .dataframe thead th {\n",
       "        text-align: right;\n",
       "    }\n",
       "</style>\n",
       "<table border=\"1\" class=\"dataframe\">\n",
       "  <thead>\n",
       "    <tr style=\"text-align: right;\">\n",
       "      <th></th>\n",
       "      <th>calls</th>\n",
       "      <th>minutes</th>\n",
       "      <th>messages</th>\n",
       "      <th>mb_used</th>\n",
       "      <th>is_ultra</th>\n",
       "    </tr>\n",
       "  </thead>\n",
       "  <tbody>\n",
       "    <tr>\n",
       "      <th>0</th>\n",
       "      <td>40.0</td>\n",
       "      <td>311.90</td>\n",
       "      <td>83.0</td>\n",
       "      <td>19915.42</td>\n",
       "      <td>0</td>\n",
       "    </tr>\n",
       "    <tr>\n",
       "      <th>1</th>\n",
       "      <td>85.0</td>\n",
       "      <td>516.75</td>\n",
       "      <td>56.0</td>\n",
       "      <td>22696.96</td>\n",
       "      <td>0</td>\n",
       "    </tr>\n",
       "    <tr>\n",
       "      <th>2</th>\n",
       "      <td>77.0</td>\n",
       "      <td>467.66</td>\n",
       "      <td>86.0</td>\n",
       "      <td>21060.45</td>\n",
       "      <td>0</td>\n",
       "    </tr>\n",
       "    <tr>\n",
       "      <th>3</th>\n",
       "      <td>106.0</td>\n",
       "      <td>745.53</td>\n",
       "      <td>81.0</td>\n",
       "      <td>8437.39</td>\n",
       "      <td>1</td>\n",
       "    </tr>\n",
       "    <tr>\n",
       "      <th>4</th>\n",
       "      <td>66.0</td>\n",
       "      <td>418.74</td>\n",
       "      <td>1.0</td>\n",
       "      <td>14502.75</td>\n",
       "      <td>0</td>\n",
       "    </tr>\n",
       "  </tbody>\n",
       "</table>\n",
       "</div>"
      ],
      "text/plain": [
       "   calls  minutes  messages   mb_used  is_ultra\n",
       "0   40.0   311.90      83.0  19915.42         0\n",
       "1   85.0   516.75      56.0  22696.96         0\n",
       "2   77.0   467.66      86.0  21060.45         0\n",
       "3  106.0   745.53      81.0   8437.39         1\n",
       "4   66.0   418.74       1.0  14502.75         0"
      ]
     },
     "execution_count": 5,
     "metadata": {},
     "output_type": "execute_result"
    }
   ],
   "source": [
    "df.head(5)"
   ]
  },
  {
   "cell_type": "code",
   "execution_count": 6,
   "metadata": {},
   "outputs": [
    {
     "name": "stdout",
     "output_type": "stream",
     "text": [
      "<class 'pandas.core.frame.DataFrame'>\n",
      "RangeIndex: 3214 entries, 0 to 3213\n",
      "Data columns (total 5 columns):\n",
      " #   Column    Non-Null Count  Dtype  \n",
      "---  ------    --------------  -----  \n",
      " 0   calls     3214 non-null   float64\n",
      " 1   minutes   3214 non-null   float64\n",
      " 2   messages  3214 non-null   float64\n",
      " 3   mb_used   3214 non-null   float64\n",
      " 4   is_ultra  3214 non-null   int64  \n",
      "dtypes: float64(4), int64(1)\n",
      "memory usage: 125.7 KB\n"
     ]
    }
   ],
   "source": [
    "df.info()"
   ]
  },
  {
   "cell_type": "code",
   "execution_count": 9,
   "metadata": {},
   "outputs": [
    {
     "data": {
      "text/html": [
       "<div>\n",
       "<style scoped>\n",
       "    .dataframe tbody tr th:only-of-type {\n",
       "        vertical-align: middle;\n",
       "    }\n",
       "\n",
       "    .dataframe tbody tr th {\n",
       "        vertical-align: top;\n",
       "    }\n",
       "\n",
       "    .dataframe thead th {\n",
       "        text-align: right;\n",
       "    }\n",
       "</style>\n",
       "<table border=\"1\" class=\"dataframe\">\n",
       "  <thead>\n",
       "    <tr style=\"text-align: right;\">\n",
       "      <th></th>\n",
       "      <th>calls</th>\n",
       "      <th>minutes</th>\n",
       "      <th>messages</th>\n",
       "      <th>mb_used</th>\n",
       "      <th>is_ultra</th>\n",
       "    </tr>\n",
       "  </thead>\n",
       "  <tbody>\n",
       "    <tr>\n",
       "      <th>count</th>\n",
       "      <td>3214.000000</td>\n",
       "      <td>3214.000000</td>\n",
       "      <td>3214.000000</td>\n",
       "      <td>3214.000000</td>\n",
       "      <td>3214.000000</td>\n",
       "    </tr>\n",
       "    <tr>\n",
       "      <th>mean</th>\n",
       "      <td>63.038892</td>\n",
       "      <td>438.208787</td>\n",
       "      <td>38.281269</td>\n",
       "      <td>17207.673836</td>\n",
       "      <td>0.306472</td>\n",
       "    </tr>\n",
       "    <tr>\n",
       "      <th>std</th>\n",
       "      <td>33.236368</td>\n",
       "      <td>234.569872</td>\n",
       "      <td>36.148326</td>\n",
       "      <td>7570.968246</td>\n",
       "      <td>0.461100</td>\n",
       "    </tr>\n",
       "    <tr>\n",
       "      <th>min</th>\n",
       "      <td>0.000000</td>\n",
       "      <td>0.000000</td>\n",
       "      <td>0.000000</td>\n",
       "      <td>0.000000</td>\n",
       "      <td>0.000000</td>\n",
       "    </tr>\n",
       "    <tr>\n",
       "      <th>25%</th>\n",
       "      <td>40.000000</td>\n",
       "      <td>274.575000</td>\n",
       "      <td>9.000000</td>\n",
       "      <td>12491.902500</td>\n",
       "      <td>0.000000</td>\n",
       "    </tr>\n",
       "    <tr>\n",
       "      <th>50%</th>\n",
       "      <td>62.000000</td>\n",
       "      <td>430.600000</td>\n",
       "      <td>30.000000</td>\n",
       "      <td>16943.235000</td>\n",
       "      <td>0.000000</td>\n",
       "    </tr>\n",
       "    <tr>\n",
       "      <th>75%</th>\n",
       "      <td>82.000000</td>\n",
       "      <td>571.927500</td>\n",
       "      <td>57.000000</td>\n",
       "      <td>21424.700000</td>\n",
       "      <td>1.000000</td>\n",
       "    </tr>\n",
       "    <tr>\n",
       "      <th>max</th>\n",
       "      <td>244.000000</td>\n",
       "      <td>1632.060000</td>\n",
       "      <td>224.000000</td>\n",
       "      <td>49745.730000</td>\n",
       "      <td>1.000000</td>\n",
       "    </tr>\n",
       "  </tbody>\n",
       "</table>\n",
       "</div>"
      ],
      "text/plain": [
       "             calls      minutes     messages       mb_used     is_ultra\n",
       "count  3214.000000  3214.000000  3214.000000   3214.000000  3214.000000\n",
       "mean     63.038892   438.208787    38.281269  17207.673836     0.306472\n",
       "std      33.236368   234.569872    36.148326   7570.968246     0.461100\n",
       "min       0.000000     0.000000     0.000000      0.000000     0.000000\n",
       "25%      40.000000   274.575000     9.000000  12491.902500     0.000000\n",
       "50%      62.000000   430.600000    30.000000  16943.235000     0.000000\n",
       "75%      82.000000   571.927500    57.000000  21424.700000     1.000000\n",
       "max     244.000000  1632.060000   224.000000  49745.730000     1.000000"
      ]
     },
     "execution_count": 9,
     "metadata": {},
     "output_type": "execute_result"
    }
   ],
   "source": [
    "df.describe()"
   ]
  },
  {
   "cell_type": "markdown",
   "metadata": {},
   "source": [
    "Массив представлен численными признаками "
   ]
  },
  {
   "cell_type": "markdown",
   "metadata": {},
   "source": [
    "Определим  признак `is_ultra` в качестве целевого \n",
    "\n",
    "\n",
    "По условию задачи предобработка не требуется.\n",
    "\n",
    "\n",
    "Построим корреляционную матрицу"
   ]
  },
  {
   "cell_type": "code",
   "execution_count": 16,
   "metadata": {},
   "outputs": [],
   "source": [
    "numerical_columns = df.select_dtypes(include=['int64','float64']).columns.tolist()"
   ]
  },
  {
   "cell_type": "code",
   "execution_count": 17,
   "metadata": {},
   "outputs": [
    {
     "data": {
      "image/png": "[encoded data removed]",
      "text/plain": [
       "<Figure size 1152x576 with 2 Axes>"
      ]
     },
     "metadata": {
      "needs_background": "light"
     },
     "output_type": "display_data"
    }
   ],
   "source": [
    "phik_corrs = df.phik_matrix(interval_cols=numerical_columns)\n",
    "plot_correlation_matrix(phik_corrs.values, \n",
    "                        x_labels=phik_corrs.columns, \n",
    "                        y_labels=phik_corrs.index, \n",
    "                        vmin=0, vmax=1, color_map=\"Greens\", \n",
    "                        title=r\"Корелляция параметров  $\\phi_K$\", \n",
    "                        fontsize_factor=1.5, \n",
    "                        figsize=(16, 8))\n",
    "plt.tight_layout()"
   ]
  },
  {
   "cell_type": "markdown",
   "metadata": {},
   "source": [
    "**Вывод**\n",
    "признаки `minutes` и `calls` созависимы, соответственно, потребуется оставить один из них\n",
    "\n",
    "Оставим `minutes`"
   ]
  },
  {
   "cell_type": "code",
   "execution_count": 18,
   "metadata": {},
   "outputs": [],
   "source": [
    "df=df.drop('calls',axis=1)"
   ]
  },
  {
   "cell_type": "markdown",
   "metadata": {},
   "source": [
    "Сформируем X и y"
   ]
  },
  {
   "cell_type": "markdown",
   "metadata": {},
   "source": [
    "## Формирование X_train, X_valid, y_train, y_valid"
   ]
  },
  {
   "cell_type": "code",
   "execution_count": 19,
   "metadata": {},
   "outputs": [],
   "source": [
    "X=df.drop('is_ultra',axis=1)"
   ]
  },
  {
   "cell_type": "code",
   "execution_count": 20,
   "metadata": {},
   "outputs": [],
   "source": [
    "y=df['is_ultra']"
   ]
  },
  {
   "cell_type": "markdown",
   "metadata": {},
   "source": [
    "Разделим выборку на трейн и велид"
   ]
  },
  {
   "cell_type": "code",
   "execution_count": 23,
   "metadata": {},
   "outputs": [],
   "source": [
    "#Делим массив на трейн и тест\n",
    "X_train, X_valid, y_train, y_valid = train_test_split(X, y, test_size=0.25, random_state=RANDOM_STATE)"
   ]
  },
  {
   "cell_type": "code",
   "execution_count": 34,
   "metadata": {},
   "outputs": [
    {
     "name": "stderr",
     "output_type": "stream",
     "text": [
      "C:\\Users\\Admin\\anaconda3\\lib\\site-packages\\sklearn\\metrics\\_classification.py:1471: UndefinedMetricWarning: Precision is ill-defined and being set to 0.0 due to no predicted samples. Use `zero_division` parameter to control this behavior.\n",
      "  _warn_prf(average, modifier, msg_start, len(result))\n"
     ]
    },
    {
     "data": {
      "text/html": [
       "<div>\n",
       "<style scoped>\n",
       "    .dataframe tbody tr th:only-of-type {\n",
       "        vertical-align: middle;\n",
       "    }\n",
       "\n",
       "    .dataframe tbody tr th {\n",
       "        vertical-align: top;\n",
       "    }\n",
       "\n",
       "    .dataframe thead th {\n",
       "        text-align: right;\n",
       "    }\n",
       "</style>\n",
       "<table border=\"1\" class=\"dataframe\">\n",
       "  <thead>\n",
       "    <tr style=\"text-align: right;\">\n",
       "      <th></th>\n",
       "      <th>Модель</th>\n",
       "      <th>Accuracy</th>\n",
       "      <th>Precision</th>\n",
       "      <th>Recall</th>\n",
       "      <th>F1 Score</th>\n",
       "    </tr>\n",
       "  </thead>\n",
       "  <tbody>\n",
       "    <tr>\n",
       "      <th>0</th>\n",
       "      <td>LogisticRegression</td>\n",
       "      <td>0.758706</td>\n",
       "      <td>0.885246</td>\n",
       "      <td>0.224066</td>\n",
       "      <td>0.357616</td>\n",
       "    </tr>\n",
       "    <tr>\n",
       "      <th>1</th>\n",
       "      <td>DecisionTreeClassifier</td>\n",
       "      <td>0.730100</td>\n",
       "      <td>0.554054</td>\n",
       "      <td>0.510373</td>\n",
       "      <td>0.531317</td>\n",
       "    </tr>\n",
       "    <tr>\n",
       "      <th>2</th>\n",
       "      <td>RandomForestClassifier</td>\n",
       "      <td>0.787313</td>\n",
       "      <td>0.692308</td>\n",
       "      <td>0.522822</td>\n",
       "      <td>0.595745</td>\n",
       "    </tr>\n",
       "    <tr>\n",
       "      <th>3</th>\n",
       "      <td>DummyClassifier</td>\n",
       "      <td>0.700249</td>\n",
       "      <td>0.000000</td>\n",
       "      <td>0.000000</td>\n",
       "      <td>0.000000</td>\n",
       "    </tr>\n",
       "  </tbody>\n",
       "</table>\n",
       "</div>"
      ],
      "text/plain": [
       "                   Модель  Accuracy  Precision    Recall  F1 Score\n",
       "0      LogisticRegression  0.758706   0.885246  0.224066  0.357616\n",
       "1  DecisionTreeClassifier  0.730100   0.554054  0.510373  0.531317\n",
       "2  RandomForestClassifier  0.787313   0.692308  0.522822  0.595745\n",
       "3         DummyClassifier  0.700249   0.000000  0.000000  0.000000"
      ]
     },
     "execution_count": 34,
     "metadata": {},
     "output_type": "execute_result"
    }
   ],
   "source": [
    "# Разделение данных на обучающую и валидационную выборки\n",
    "X_train, X_valid, y_train, y_valid = train_test_split(X, y, test_size=0.25, random_state=RANDOM_STATE)\n",
    "\n",
    "# Масштабирование данных\n",
    "scaler = StandardScaler()\n",
    "X_train_scaled = scaler.fit_transform(X_train)\n",
    "X_valid_scaled = scaler.transform(X_valid)\n",
    "\n",
    "# Обучение простых моделей Классификациии\n",
    "logistic_regression = LogisticRegression(random_state=RANDOM_STATE)\n",
    "decision_tree = DecisionTreeClassifier(random_state=RANDOM_STATE)\n",
    "random_forest = RandomForestClassifier(random_state=RANDOM_STATE)\n",
    "dummy_classifier = DummyClassifier(strategy='most_frequent')\n",
    "models = [logistic_regression, decision_tree, random_forest,dummy_classifier]\n",
    "for model in models:\n",
    "    model.fit(X_train_scaled, y_train)\n",
    "\n",
    "    # Создадим пустые списки для хранения метрик\n",
    "accuracy_scores = []\n",
    "precision_scores = []\n",
    "recall_scores = []\n",
    "f1_scores = []\n",
    "\n",
    "# Переберем каждую модель\n",
    "for model in models:\n",
    "    # Сделаем предсказания на валидационных данных\n",
    "    y_pred_valid = model.predict(X_valid_scaled)\n",
    "    \n",
    "    # Вычислим метрики для каждой модели\n",
    "    accuracy = accuracy_score(y_valid, y_pred_valid)\n",
    "    precision = precision_score(y_valid, y_pred_valid)\n",
    "    recall = recall_score(y_valid, y_pred_valid)\n",
    "    f1 = f1_score(y_valid, y_pred_valid)\n",
    "    \n",
    "    # Добавим метрики в соответствующие списки\n",
    "    accuracy_scores.append(accuracy)\n",
    "    precision_scores.append(precision)\n",
    "    recall_scores.append(recall)\n",
    "    f1_scores.append(f1)\n",
    "\n",
    "# Создим датафрейм с результатами метрик\n",
    "metrics_df = pd.DataFrame({\n",
    "    'Модель': [model.__class__.__name__ for model in models],\n",
    "    'Accuracy': accuracy_scores,\n",
    "    'Precision': precision_scores,\n",
    "    'Recall': recall_scores,\n",
    "    'F1 Score': f1_scores\n",
    "})\n",
    "\n",
    "# Выведем датафрейм с результатами метрик\n",
    "metrics_df\n"
   ]
  },
  {
   "cell_type": "markdown",
   "metadata": {},
   "source": [
    "Модель LogisticRegression имеет достаточно высокую точность (Accuracy) в 75.87%, что говорит о том, что она правильно классифицирует пользователей в большинстве случаев. Однако, у нее низкие значения для Recall (чувствительность) и F1 Score, что может означать, что она может упустить некоторые положительные случаи (пользователей, которые действительно нуждаются в тарифе \"Ультра\").\n",
    "\n",
    "Модель DecisionTreeClassifier показала чуть более низкую точность (Accuracy) в 73.01%, чем LogisticRegression, но имеет более высокие значения для Recall и F1 Score. Это означает, что она способна лучше выявлять положительные случаи, но может иметь больше ложных срабатываний.\n",
    "\n",
    "Модель RandomForestClassifier имеет наивысшую точность (Accuracy) среди всех моделей в 78.73%. Она также имеет неплохие значения для Precision, Recall и F1 Score. Это может быть хорошим выбором для задачи классификации, так как она демонстрирует хороший баланс между точностью и способностью выявлять положительные случаи.\n",
    "\n",
    "Исходя из этих результатов, модель RandomForestClassifier может быть наилучшим выбором для решения задачи рекомендации подходящего тарифа. Она показала способность выявлять положительные случаи с высокой точностью. Однако, решение может также зависеть от конкретных бизнес-целей и требований.\n",
    "\n",
    "Также сравнение с DummyClassifier показало, что модели работают адекватно\n",
    "\n",
    "\n",
    "\n",
    "\n",
    "## Итоговый вывод\n",
    "\n",
    "В рамках данного проекта была выполнена задача по выбору подходящего тарифа для клиентов оператора мобильной связи \"Мегалайн\". Для этого была построена модель классификации, способная определить, какой из двух тарифов, \"Смарт\" или \"Ультра\", будет наиболее подходящим для каждого клиента на основе их поведения.\n",
    "\n",
    "В процессе исследования были выполнены следующие шаги:\n",
    "\n",
    "1. Определение типов данных модели\n",
    "\n",
    "2. Данные были разделены на обучающую и валидационную выборки.\n",
    "\n",
    "3. Проведено обучение простых моделей классификации, таких LogisticRegression,DecisionTreeClassifier, RandomForestClassifier.\n",
    "\n",
    "4. Модели были оценены на валидационной выборке, и получены следующие результаты:\n",
    "\n",
    "   - Модель LogisticRegression показала точность (Accuracy) в 75.87%, но имела низкие значения для Recall и F1 Score.\n",
    "   \n",
    "   - Модель DecisionTreeClassifier имела точность в 73.01% и более высокие значения для Recall и F1 Score.\n",
    "   \n",
    "   - Модель RandomForestClassifier показала наивысшую точность в 78.73% и неплохие значения для Precision, Recall и F1 Score.\n",
    "   \n",
    "5. На основе результатов оценки моделей, модель RandomForestClassifier была выбрана как наилучший выбор для задачи классификации выбора тарифа. Она обеспечивает хороший баланс между точностью и способностью выявлять положительные случаи.\n",
    "\n",
    "6. Сравнение с DummyClassifier показало, что модели работают адекватно.\n",
    "\n",
    "В целом, выполненная работа позволяет оператору \"Мегалайн\" определить наиболее подходящий тариф для своих клиентов на основе их поведения, что может помочь в увеличении удовлетворенности клиентов и увеличении выручки компании.\n",
    "\n"
   ]
  },
  {
   "cell_type": "code",
   "execution_count": null,
   "metadata": {},
   "outputs": [],
   "source": []
  }
 ],
 "metadata": {
  "ExecuteTimeLog": [
   {
    "duration": 1155,
    "start_time": "2023-06-29T09:55:20.425Z"
   },
   {
    "duration": 64,
    "start_time": "2023-06-29T10:07:07.489Z"
   },
   {
    "duration": 29,
    "start_time": "2023-06-29T10:07:22.402Z"
   },
   {
    "duration": 20,
    "start_time": "2023-06-29T10:07:47.044Z"
   },
   {
    "duration": 17,
    "start_time": "2023-06-29T10:12:21.215Z"
   },
   {
    "duration": 18,
    "start_time": "2023-06-29T10:12:28.794Z"
   },
   {
    "duration": 25,
    "start_time": "2023-06-29T10:12:55.613Z"
   },
   {
    "duration": 39,
    "start_time": "2023-06-29T10:14:33.130Z"
   },
   {
    "duration": 41,
    "start_time": "2023-06-29T10:15:01.101Z"
   },
   {
    "duration": 23,
    "start_time": "2023-06-29T10:15:35.710Z"
   },
   {
    "duration": 16,
    "start_time": "2023-06-29T10:15:57.411Z"
   },
   {
    "duration": 11,
    "start_time": "2023-06-29T10:21:27.558Z"
   },
   {
    "duration": 3,
    "start_time": "2023-06-29T10:22:26.615Z"
   },
   {
    "duration": 6,
    "start_time": "2023-06-29T10:22:52.783Z"
   },
   {
    "duration": 2,
    "start_time": "2023-06-29T10:23:49.131Z"
   },
   {
    "duration": 20,
    "start_time": "2023-06-29T10:23:51.196Z"
   },
   {
    "duration": 119,
    "start_time": "2023-06-29T10:37:38.518Z"
   },
   {
    "duration": 506,
    "start_time": "2023-06-29T10:38:01.545Z"
   },
   {
    "duration": 26,
    "start_time": "2023-06-29T10:38:02.859Z"
   },
   {
    "duration": 11,
    "start_time": "2023-06-29T10:38:04.023Z"
   },
   {
    "duration": 4,
    "start_time": "2023-06-29T10:38:04.580Z"
   },
   {
    "duration": 19,
    "start_time": "2023-06-29T10:38:05.156Z"
   },
   {
    "duration": 29,
    "start_time": "2023-06-29T10:38:07.702Z"
   },
   {
    "duration": 151,
    "start_time": "2023-06-29T10:38:32.263Z"
   },
   {
    "duration": 16,
    "start_time": "2023-06-29T10:38:42.340Z"
   },
   {
    "duration": 169,
    "start_time": "2023-06-29T10:39:31.727Z"
   },
   {
    "duration": 1626,
    "start_time": "2023-06-29T10:39:41.853Z"
   },
   {
    "duration": 20,
    "start_time": "2023-06-29T10:39:43.483Z"
   },
   {
    "duration": 8,
    "start_time": "2023-06-29T10:39:43.504Z"
   },
   {
    "duration": 3,
    "start_time": "2023-06-29T10:39:43.514Z"
   },
   {
    "duration": 21,
    "start_time": "2023-06-29T10:39:43.518Z"
   },
   {
    "duration": 7,
    "start_time": "2023-06-29T10:39:43.540Z"
   },
   {
    "duration": 151,
    "start_time": "2023-06-29T10:40:23.912Z"
   },
   {
    "duration": 15,
    "start_time": "2023-06-29T10:40:58.184Z"
   },
   {
    "duration": 235,
    "start_time": "2023-06-29T10:41:06.448Z"
   },
   {
    "duration": 200,
    "start_time": "2023-06-29T10:42:20.816Z"
   },
   {
    "duration": 257,
    "start_time": "2023-06-29T10:44:26.628Z"
   },
   {
    "duration": 10002,
    "start_time": "2023-06-29T10:46:00.614Z"
   },
   {
    "duration": 10584,
    "start_time": "2023-06-29T10:46:45.855Z"
   },
   {
    "duration": 11099,
    "start_time": "2023-06-29T10:46:57.396Z"
   },
   {
    "duration": 247,
    "start_time": "2023-06-29T10:47:17.296Z"
   },
   {
    "duration": 18,
    "start_time": "2023-06-29T10:48:37.055Z"
   },
   {
    "duration": 202,
    "start_time": "2023-06-29T10:48:47.363Z"
   },
   {
    "duration": 211,
    "start_time": "2023-06-29T10:49:18.884Z"
   },
   {
    "duration": 223,
    "start_time": "2023-06-29T10:49:32.402Z"
   },
   {
    "duration": 268,
    "start_time": "2023-06-29T10:58:38.636Z"
   },
   {
    "duration": 8,
    "start_time": "2023-06-29T10:58:42.688Z"
   },
   {
    "duration": 83,
    "start_time": "2023-06-29T10:58:44.083Z"
   },
   {
    "duration": 17056,
    "start_time": "2023-06-29T10:58:50.536Z"
   },
   {
    "duration": 5,
    "start_time": "2023-06-29T11:00:26.334Z"
   },
   {
    "duration": 10,
    "start_time": "2023-06-29T11:07:19.793Z"
   },
   {
    "duration": 0,
    "start_time": "2023-06-29T11:07:47.558Z"
   },
   {
    "duration": 0,
    "start_time": "2023-06-29T11:07:47.559Z"
   },
   {
    "duration": 5,
    "start_time": "2023-06-29T11:07:55.036Z"
   },
   {
    "duration": 24754,
    "start_time": "2023-06-29T11:07:56.248Z"
   },
   {
    "duration": 7,
    "start_time": "2023-06-29T11:09:07.700Z"
   },
   {
    "duration": 1200,
    "start_time": "2023-06-29T11:09:10.388Z"
   },
   {
    "duration": 5,
    "start_time": "2023-06-29T11:09:59.016Z"
   },
   {
    "duration": 812,
    "start_time": "2023-06-29T11:10:02.182Z"
   },
   {
    "duration": 6,
    "start_time": "2023-06-29T11:11:53.696Z"
   },
   {
    "duration": 764,
    "start_time": "2023-06-29T11:11:54.584Z"
   },
   {
    "duration": 6,
    "start_time": "2023-06-29T11:12:20.601Z"
   },
   {
    "duration": 900,
    "start_time": "2023-06-29T11:12:21.343Z"
   },
   {
    "duration": 176,
    "start_time": "2023-06-29T11:12:22.299Z"
   },
   {
    "duration": 6,
    "start_time": "2023-06-29T11:13:02.739Z"
   },
   {
    "duration": 805,
    "start_time": "2023-06-29T11:13:02.979Z"
   },
   {
    "duration": 5,
    "start_time": "2023-06-29T11:19:43.831Z"
   },
   {
    "duration": 953,
    "start_time": "2023-06-29T11:19:46.587Z"
   },
   {
    "duration": 6,
    "start_time": "2023-06-29T11:20:07.235Z"
   },
   {
    "duration": 802,
    "start_time": "2023-06-29T11:20:07.481Z"
   },
   {
    "duration": 10,
    "start_time": "2023-06-29T11:38:47.429Z"
   },
   {
    "duration": 9,
    "start_time": "2023-06-29T11:39:30.920Z"
   },
   {
    "duration": 5,
    "start_time": "2023-06-29T11:40:59.281Z"
   },
   {
    "duration": 50,
    "start_time": "2023-06-29T13:19:22.116Z"
   },
   {
    "duration": 2028,
    "start_time": "2023-06-29T13:19:31.497Z"
   },
   {
    "duration": 16,
    "start_time": "2023-06-29T13:19:33.527Z"
   },
   {
    "duration": 12,
    "start_time": "2023-06-29T13:19:33.545Z"
   },
   {
    "duration": 13,
    "start_time": "2023-06-29T13:19:33.559Z"
   },
   {
    "duration": 42,
    "start_time": "2023-06-29T13:19:33.575Z"
   },
   {
    "duration": 6,
    "start_time": "2023-06-29T13:19:33.619Z"
   },
   {
    "duration": 839,
    "start_time": "2023-06-29T13:19:33.627Z"
   },
   {
    "duration": 8,
    "start_time": "2023-06-29T13:19:34.467Z"
   },
   {
    "duration": 76,
    "start_time": "2023-06-29T13:19:34.476Z"
   },
   {
    "duration": 0,
    "start_time": "2023-06-29T13:19:34.554Z"
   },
   {
    "duration": 4,
    "start_time": "2023-06-29T13:20:17.594Z"
   },
   {
    "duration": 673,
    "start_time": "2023-06-29T13:27:19.293Z"
   },
   {
    "duration": 177,
    "start_time": "2023-06-29T13:27:49.955Z"
   },
   {
    "duration": 151,
    "start_time": "2023-06-29T13:30:10.076Z"
   },
   {
    "duration": 5,
    "start_time": "2023-06-29T13:30:20.136Z"
   },
   {
    "duration": 5,
    "start_time": "2023-06-29T13:31:15.216Z"
   },
   {
    "duration": 5,
    "start_time": "2023-06-29T13:31:34.237Z"
   },
   {
    "duration": 1973,
    "start_time": "2023-06-29T13:31:45.122Z"
   },
   {
    "duration": 15,
    "start_time": "2023-06-29T13:31:47.097Z"
   },
   {
    "duration": 15,
    "start_time": "2023-06-29T13:31:47.114Z"
   },
   {
    "duration": 9,
    "start_time": "2023-06-29T13:31:47.132Z"
   },
   {
    "duration": 34,
    "start_time": "2023-06-29T13:31:47.143Z"
   },
   {
    "duration": 6,
    "start_time": "2023-06-29T13:31:47.178Z"
   },
   {
    "duration": 800,
    "start_time": "2023-06-29T13:31:47.186Z"
   },
   {
    "duration": 6,
    "start_time": "2023-06-29T13:31:47.988Z"
   },
   {
    "duration": 12,
    "start_time": "2023-06-29T13:31:47.996Z"
   },
   {
    "duration": 11,
    "start_time": "2023-06-29T13:31:48.010Z"
   },
   {
    "duration": 13,
    "start_time": "2023-06-29T13:31:48.022Z"
   },
   {
    "duration": 180,
    "start_time": "2023-06-29T13:31:48.037Z"
   },
   {
    "duration": 131,
    "start_time": "2023-06-29T13:32:36.749Z"
   },
   {
    "duration": 6,
    "start_time": "2023-06-29T13:33:54.884Z"
   },
   {
    "duration": 925,
    "start_time": "2023-06-29T13:33:56.302Z"
   },
   {
    "duration": 2015,
    "start_time": "2023-06-29T13:37:24.018Z"
   },
   {
    "duration": 16,
    "start_time": "2023-06-29T13:37:26.035Z"
   },
   {
    "duration": 37,
    "start_time": "2023-06-29T13:37:26.053Z"
   },
   {
    "duration": 13,
    "start_time": "2023-06-29T13:37:26.093Z"
   },
   {
    "duration": 31,
    "start_time": "2023-06-29T13:37:26.109Z"
   },
   {
    "duration": 6,
    "start_time": "2023-06-29T13:37:26.142Z"
   },
   {
    "duration": 937,
    "start_time": "2023-06-29T13:37:26.149Z"
   },
   {
    "duration": 8,
    "start_time": "2023-06-29T13:37:27.087Z"
   },
   {
    "duration": 10,
    "start_time": "2023-06-29T13:37:27.096Z"
   },
   {
    "duration": 19,
    "start_time": "2023-06-29T13:37:27.107Z"
   },
   {
    "duration": 29,
    "start_time": "2023-06-29T13:37:27.128Z"
   },
   {
    "duration": 610,
    "start_time": "2023-06-29T13:37:27.160Z"
   },
   {
    "duration": 10,
    "start_time": "2023-06-29T13:37:50.348Z"
   },
   {
    "duration": 498,
    "start_time": "2023-06-29T13:37:51.650Z"
   },
   {
    "duration": 6,
    "start_time": "2023-06-29T13:38:30.371Z"
   },
   {
    "duration": 586,
    "start_time": "2023-06-29T13:38:31.607Z"
   },
   {
    "duration": 6,
    "start_time": "2023-06-29T13:39:28.496Z"
   },
   {
    "duration": 269,
    "start_time": "2023-06-29T13:39:29.506Z"
   },
   {
    "duration": 310,
    "start_time": "2023-06-29T13:40:52.931Z"
   },
   {
    "duration": 259,
    "start_time": "2023-06-29T13:40:53.884Z"
   },
   {
    "duration": 284,
    "start_time": "2023-06-29T13:41:14.588Z"
   },
   {
    "duration": 252,
    "start_time": "2023-06-29T13:41:15.506Z"
   },
   {
    "duration": 9,
    "start_time": "2023-06-29T13:41:44.309Z"
   },
   {
    "duration": 1046,
    "start_time": "2023-06-29T13:41:47.251Z"
   },
   {
    "duration": 5,
    "start_time": "2023-06-29T13:43:39.096Z"
   },
   {
    "duration": 1015,
    "start_time": "2023-06-29T13:43:39.912Z"
   },
   {
    "duration": 137,
    "start_time": "2023-06-29T13:45:18.840Z"
   },
   {
    "duration": 1066,
    "start_time": "2023-06-29T13:45:19.700Z"
   },
   {
    "duration": 25,
    "start_time": "2023-06-29T13:52:32.833Z"
   },
   {
    "duration": 23,
    "start_time": "2023-06-29T13:52:50.786Z"
   },
   {
    "duration": 24,
    "start_time": "2023-06-29T13:53:09.386Z"
   },
   {
    "duration": 25,
    "start_time": "2023-06-29T13:54:00.520Z"
   },
   {
    "duration": 4,
    "start_time": "2023-06-29T14:28:52.696Z"
   },
   {
    "duration": 3,
    "start_time": "2023-06-29T14:30:33.431Z"
   },
   {
    "duration": 4,
    "start_time": "2023-06-29T14:31:37.442Z"
   },
   {
    "duration": 30,
    "start_time": "2023-06-29T14:32:01.078Z"
   },
   {
    "duration": 3,
    "start_time": "2023-06-29T14:32:16.009Z"
   },
   {
    "duration": 29,
    "start_time": "2023-06-29T14:32:16.657Z"
   },
   {
    "duration": 4,
    "start_time": "2023-06-29T14:33:37.013Z"
   },
   {
    "duration": 14,
    "start_time": "2023-06-29T14:33:37.829Z"
   },
   {
    "duration": 3,
    "start_time": "2023-06-29T14:33:51.268Z"
   },
   {
    "duration": 27,
    "start_time": "2023-06-29T14:33:52.019Z"
   },
   {
    "duration": 4,
    "start_time": "2023-06-29T14:34:11.565Z"
   },
   {
    "duration": 29,
    "start_time": "2023-06-29T14:34:12.267Z"
   },
   {
    "duration": 3,
    "start_time": "2023-06-29T14:34:43.709Z"
   },
   {
    "duration": 26,
    "start_time": "2023-06-29T14:34:44.815Z"
   },
   {
    "duration": 3,
    "start_time": "2023-06-29T14:34:56.556Z"
   },
   {
    "duration": 27,
    "start_time": "2023-06-29T14:34:57.117Z"
   },
   {
    "duration": 4,
    "start_time": "2023-06-29T14:35:17.296Z"
   },
   {
    "duration": 28,
    "start_time": "2023-06-29T14:35:17.930Z"
   },
   {
    "duration": 3,
    "start_time": "2023-06-29T14:35:41.187Z"
   },
   {
    "duration": 18,
    "start_time": "2023-06-29T14:35:41.996Z"
   },
   {
    "duration": 3,
    "start_time": "2023-06-29T14:36:08.597Z"
   },
   {
    "duration": 33,
    "start_time": "2023-06-29T14:36:09.844Z"
   },
   {
    "duration": 16,
    "start_time": "2023-06-29T14:36:40.165Z"
   },
   {
    "duration": 26,
    "start_time": "2023-06-29T14:37:11.495Z"
   },
   {
    "duration": 14,
    "start_time": "2023-06-29T14:37:21.235Z"
   },
   {
    "duration": 20,
    "start_time": "2023-06-29T14:37:31.538Z"
   },
   {
    "duration": 10,
    "start_time": "2023-06-29T14:37:47.747Z"
   },
   {
    "duration": 2844,
    "start_time": "2023-06-29T14:38:56.369Z"
   },
   {
    "duration": 7579,
    "start_time": "2023-06-29T14:39:31.870Z"
   },
   {
    "duration": 10791,
    "start_time": "2023-06-29T14:39:58.844Z"
   },
   {
    "duration": 0,
    "start_time": "2023-06-29T14:40:09.637Z"
   },
   {
    "duration": 11,
    "start_time": "2023-06-29T14:40:18.005Z"
   },
   {
    "duration": 4,
    "start_time": "2023-06-29T14:41:22.087Z"
   },
   {
    "duration": 24,
    "start_time": "2023-06-29T14:41:32.630Z"
   },
   {
    "duration": 12,
    "start_time": "2023-06-29T14:41:36.277Z"
   },
   {
    "duration": 5,
    "start_time": "2023-06-29T14:52:42.011Z"
   },
   {
    "duration": 19,
    "start_time": "2023-06-29T14:52:42.725Z"
   },
   {
    "duration": 3,
    "start_time": "2023-06-29T14:52:46.120Z"
   },
   {
    "duration": 4,
    "start_time": "2023-06-29T14:53:54.550Z"
   },
   {
    "duration": 5,
    "start_time": "2023-06-29T14:55:52.023Z"
   },
   {
    "duration": 29,
    "start_time": "2023-06-29T14:55:58.395Z"
   },
   {
    "duration": 7,
    "start_time": "2023-06-29T14:56:41.158Z"
   },
   {
    "duration": 38,
    "start_time": "2023-06-29T14:56:42.529Z"
   },
   {
    "duration": 5,
    "start_time": "2023-06-29T14:56:50.322Z"
   },
   {
    "duration": 6,
    "start_time": "2023-06-29T14:56:55.126Z"
   },
   {
    "duration": 27,
    "start_time": "2023-06-29T14:56:55.746Z"
   },
   {
    "duration": 5,
    "start_time": "2023-06-29T14:57:17.406Z"
   },
   {
    "duration": 30,
    "start_time": "2023-06-29T14:57:18.104Z"
   },
   {
    "duration": 4,
    "start_time": "2023-06-29T14:57:19.613Z"
   },
   {
    "duration": 5,
    "start_time": "2023-06-29T14:57:40.208Z"
   },
   {
    "duration": 26,
    "start_time": "2023-06-29T14:57:41.210Z"
   },
   {
    "duration": 4,
    "start_time": "2023-06-29T14:58:21.249Z"
   },
   {
    "duration": 28,
    "start_time": "2023-06-29T14:58:21.896Z"
   },
   {
    "duration": 4,
    "start_time": "2023-06-29T14:58:40.244Z"
   },
   {
    "duration": 38,
    "start_time": "2023-06-29T14:58:41.104Z"
   },
   {
    "duration": 4,
    "start_time": "2023-06-29T14:58:50.265Z"
   },
   {
    "duration": 8,
    "start_time": "2023-06-29T14:59:15.708Z"
   },
   {
    "duration": 32,
    "start_time": "2023-06-29T14:59:16.624Z"
   },
   {
    "duration": 9,
    "start_time": "2023-06-29T14:59:18.729Z"
   },
   {
    "duration": 4,
    "start_time": "2023-06-29T15:00:08.704Z"
   },
   {
    "duration": 34,
    "start_time": "2023-06-29T15:00:09.846Z"
   },
   {
    "duration": 8,
    "start_time": "2023-06-29T15:00:10.535Z"
   },
   {
    "duration": 4,
    "start_time": "2023-06-29T15:02:19.628Z"
   },
   {
    "duration": 4307,
    "start_time": "2023-06-29T15:02:20.411Z"
   },
   {
    "duration": 13,
    "start_time": "2023-06-29T15:02:27.121Z"
   },
   {
    "duration": 5,
    "start_time": "2023-06-29T15:05:21.721Z"
   },
   {
    "duration": 26,
    "start_time": "2023-06-29T15:05:24.080Z"
   },
   {
    "duration": 8,
    "start_time": "2023-06-29T15:05:26.133Z"
   },
   {
    "duration": 130,
    "start_time": "2023-06-29T15:05:32.348Z"
   },
   {
    "duration": 29,
    "start_time": "2023-06-29T15:05:34.161Z"
   },
   {
    "duration": 824,
    "start_time": "2023-06-29T15:05:47.020Z"
   },
   {
    "duration": 25,
    "start_time": "2023-06-29T15:05:48.348Z"
   },
   {
    "duration": 5,
    "start_time": "2023-06-29T15:05:59.341Z"
   },
   {
    "duration": 33,
    "start_time": "2023-06-29T15:06:00.664Z"
   },
   {
    "duration": 9,
    "start_time": "2023-06-29T15:06:02.636Z"
   },
   {
    "duration": 6,
    "start_time": "2023-06-29T15:06:35.009Z"
   },
   {
    "duration": 41,
    "start_time": "2023-06-29T15:06:35.831Z"
   },
   {
    "duration": 9,
    "start_time": "2023-06-29T15:06:37.540Z"
   },
   {
    "duration": 4,
    "start_time": "2023-06-29T15:07:12.060Z"
   },
   {
    "duration": 39,
    "start_time": "2023-06-29T15:07:12.939Z"
   },
   {
    "duration": 17,
    "start_time": "2023-06-29T15:07:14.250Z"
   },
   {
    "duration": 5,
    "start_time": "2023-06-29T15:07:58.802Z"
   },
   {
    "duration": 34,
    "start_time": "2023-06-29T15:07:59.682Z"
   },
   {
    "duration": 9,
    "start_time": "2023-06-29T15:08:01.460Z"
   },
   {
    "duration": 4,
    "start_time": "2023-06-29T15:13:04.416Z"
   },
   {
    "duration": 17,
    "start_time": "2023-06-29T15:13:04.530Z"
   },
   {
    "duration": 9,
    "start_time": "2023-06-29T15:13:06.715Z"
   },
   {
    "duration": 5,
    "start_time": "2023-06-29T15:13:59.366Z"
   },
   {
    "duration": 18,
    "start_time": "2023-06-29T15:14:00.101Z"
   },
   {
    "duration": 7,
    "start_time": "2023-06-29T15:14:00.718Z"
   },
   {
    "duration": 38,
    "start_time": "2023-06-29T15:19:11.287Z"
   },
   {
    "duration": 13,
    "start_time": "2023-06-29T15:19:29.889Z"
   },
   {
    "duration": 6,
    "start_time": "2023-06-29T15:21:05.711Z"
   },
   {
    "duration": 42,
    "start_time": "2023-06-29T15:21:07.002Z"
   },
   {
    "duration": 13,
    "start_time": "2023-06-29T15:21:09.314Z"
   },
   {
    "duration": 5,
    "start_time": "2023-06-29T15:22:15.849Z"
   },
   {
    "duration": 59,
    "start_time": "2023-06-29T15:22:16.832Z"
   },
   {
    "duration": 11,
    "start_time": "2023-06-29T15:22:18.522Z"
   },
   {
    "duration": 4,
    "start_time": "2023-06-29T15:24:39.237Z"
   },
   {
    "duration": 25,
    "start_time": "2023-06-29T15:24:39.323Z"
   },
   {
    "duration": 0,
    "start_time": "2023-06-29T15:24:39.349Z"
   },
   {
    "duration": 4,
    "start_time": "2023-06-29T15:24:59.291Z"
   },
   {
    "duration": 38,
    "start_time": "2023-06-29T15:25:00.468Z"
   },
   {
    "duration": 15,
    "start_time": "2023-06-29T15:25:01.670Z"
   },
   {
    "duration": 5,
    "start_time": "2023-06-29T15:30:29.995Z"
   },
   {
    "duration": 19,
    "start_time": "2023-06-29T15:30:31.304Z"
   },
   {
    "duration": 5,
    "start_time": "2023-06-29T15:30:34.352Z"
   },
   {
    "duration": 5,
    "start_time": "2023-06-29T15:31:00.468Z"
   },
   {
    "duration": 29,
    "start_time": "2023-06-29T15:31:01.983Z"
   },
   {
    "duration": 8,
    "start_time": "2023-06-29T15:31:33.487Z"
   },
   {
    "duration": 29,
    "start_time": "2023-06-29T15:31:34.297Z"
   },
   {
    "duration": 5,
    "start_time": "2023-06-29T15:31:35.699Z"
   },
   {
    "duration": 7,
    "start_time": "2023-06-29T15:32:14.466Z"
   },
   {
    "duration": 26,
    "start_time": "2023-06-29T15:32:16.171Z"
   },
   {
    "duration": 6,
    "start_time": "2023-06-29T15:32:52.041Z"
   },
   {
    "duration": 34,
    "start_time": "2023-06-29T15:32:52.838Z"
   },
   {
    "duration": 11,
    "start_time": "2023-06-29T15:33:08.454Z"
   },
   {
    "duration": 21,
    "start_time": "2023-06-29T15:33:09.608Z"
   },
   {
    "duration": 5,
    "start_time": "2023-06-29T15:34:11.651Z"
   },
   {
    "duration": 28,
    "start_time": "2023-06-29T15:34:13.092Z"
   },
   {
    "duration": 10,
    "start_time": "2023-06-29T15:34:16.062Z"
   },
   {
    "duration": 5,
    "start_time": "2023-06-29T15:34:29.902Z"
   },
   {
    "duration": 41,
    "start_time": "2023-06-29T15:34:30.525Z"
   },
   {
    "duration": 6,
    "start_time": "2023-06-29T15:34:31.706Z"
   },
   {
    "duration": 4,
    "start_time": "2023-06-29T15:34:46.218Z"
   },
   {
    "duration": 35,
    "start_time": "2023-06-29T15:34:46.984Z"
   },
   {
    "duration": 11,
    "start_time": "2023-06-29T15:34:48.380Z"
   },
   {
    "duration": 4,
    "start_time": "2023-06-29T15:35:20.237Z"
   },
   {
    "duration": 38,
    "start_time": "2023-06-29T15:35:21.676Z"
   },
   {
    "duration": 15,
    "start_time": "2023-06-29T15:35:23.211Z"
   },
   {
    "duration": 37,
    "start_time": "2023-06-29T15:36:32.401Z"
   },
   {
    "duration": 11,
    "start_time": "2023-06-29T15:36:33.624Z"
   },
   {
    "duration": 3,
    "start_time": "2023-06-29T15:54:25.608Z"
   },
   {
    "duration": 1240,
    "start_time": "2023-06-29T15:54:55.236Z"
   },
   {
    "duration": 59,
    "start_time": "2023-07-08T07:06:47.179Z"
   },
   {
    "duration": 1937,
    "start_time": "2023-07-08T07:06:55.990Z"
   },
   {
    "duration": 16,
    "start_time": "2023-07-08T07:06:57.929Z"
   },
   {
    "duration": 25,
    "start_time": "2023-07-08T07:06:57.947Z"
   },
   {
    "duration": 4,
    "start_time": "2023-07-08T07:06:57.974Z"
   },
   {
    "duration": 32,
    "start_time": "2023-07-08T07:06:57.980Z"
   },
   {
    "duration": 6,
    "start_time": "2023-07-08T07:06:58.015Z"
   },
   {
    "duration": 884,
    "start_time": "2023-07-08T07:06:58.022Z"
   },
   {
    "duration": 5,
    "start_time": "2023-07-08T07:06:58.909Z"
   },
   {
    "duration": 12,
    "start_time": "2023-07-08T07:06:58.916Z"
   },
   {
    "duration": 6,
    "start_time": "2023-07-08T07:06:58.932Z"
   },
   {
    "duration": 1006,
    "start_time": "2023-07-08T07:06:58.940Z"
   },
   {
    "duration": 42,
    "start_time": "2023-07-08T07:06:59.948Z"
   },
   {
    "duration": 25,
    "start_time": "2023-07-08T07:06:59.992Z"
   },
   {
    "duration": 37,
    "start_time": "2023-07-08T07:07:00.020Z"
   },
   {
    "duration": 51,
    "start_time": "2023-07-08T07:07:00.059Z"
   },
   {
    "duration": 14,
    "start_time": "2023-07-08T07:07:00.113Z"
   },
   {
    "duration": 47,
    "start_time": "2023-07-08T07:07:00.129Z"
   },
   {
    "duration": 32,
    "start_time": "2023-07-08T07:07:00.178Z"
   },
   {
    "duration": 29,
    "start_time": "2023-07-08T07:07:00.212Z"
   },
   {
    "duration": 36,
    "start_time": "2023-07-08T07:07:00.243Z"
   },
   {
    "duration": 38,
    "start_time": "2023-07-08T07:07:00.282Z"
   },
   {
    "duration": 932,
    "start_time": "2023-07-08T07:07:00.322Z"
   },
   {
    "duration": 1009,
    "start_time": "2023-07-08T07:07:01.256Z"
   },
   {
    "duration": 6,
    "start_time": "2023-07-08T07:07:02.268Z"
   },
   {
    "duration": 33,
    "start_time": "2023-07-08T07:07:02.281Z"
   },
   {
    "duration": 55,
    "start_time": "2023-07-08T07:07:02.316Z"
   },
   {
    "duration": 40,
    "start_time": "2023-07-08T07:07:02.378Z"
   },
   {
    "duration": 35,
    "start_time": "2023-07-08T07:07:02.422Z"
   },
   {
    "duration": 59,
    "start_time": "2023-07-08T07:07:02.459Z"
   },
   {
    "duration": 36,
    "start_time": "2023-07-08T07:07:02.520Z"
   },
   {
    "duration": 179,
    "start_time": "2023-07-08T07:07:02.558Z"
   },
   {
    "duration": 364,
    "start_time": "2023-07-08T07:07:02.738Z"
   },
   {
    "duration": 10097,
    "start_time": "2023-07-08T07:07:03.104Z"
   },
   {
    "duration": 18,
    "start_time": "2023-07-08T07:07:13.203Z"
   },
   {
    "duration": 50,
    "start_time": "2023-07-08T07:13:23.236Z"
   },
   {
    "duration": 1310,
    "start_time": "2023-07-08T07:16:40.880Z"
   },
   {
    "duration": 1316,
    "start_time": "2023-07-08T07:17:57.059Z"
   },
   {
    "duration": 9,
    "start_time": "2023-07-08T07:21:29.264Z"
   },
   {
    "duration": 6,
    "start_time": "2023-07-08T07:22:03.250Z"
   },
   {
    "duration": 18,
    "start_time": "2023-07-08T07:22:39.254Z"
   },
   {
    "duration": 1272,
    "start_time": "2023-07-08T07:26:23.417Z"
   },
   {
    "duration": 1245,
    "start_time": "2023-07-08T07:27:34.102Z"
   },
   {
    "duration": 2001,
    "start_time": "2023-07-08T07:28:21.006Z"
   },
   {
    "duration": 17,
    "start_time": "2023-07-08T07:28:23.009Z"
   },
   {
    "duration": 11,
    "start_time": "2023-07-08T07:28:23.027Z"
   },
   {
    "duration": 3,
    "start_time": "2023-07-08T07:28:23.040Z"
   },
   {
    "duration": 33,
    "start_time": "2023-07-08T07:28:23.045Z"
   },
   {
    "duration": 6,
    "start_time": "2023-07-08T07:28:23.080Z"
   },
   {
    "duration": 953,
    "start_time": "2023-07-08T07:28:23.089Z"
   },
   {
    "duration": 5,
    "start_time": "2023-07-08T07:28:24.045Z"
   },
   {
    "duration": 10,
    "start_time": "2023-07-08T07:28:24.059Z"
   },
   {
    "duration": 10,
    "start_time": "2023-07-08T07:28:24.078Z"
   },
   {
    "duration": 1095,
    "start_time": "2023-07-08T07:28:24.090Z"
   },
   {
    "duration": 27,
    "start_time": "2023-07-08T07:28:25.187Z"
   },
   {
    "duration": 60,
    "start_time": "2023-07-08T07:28:25.216Z"
   },
   {
    "duration": 4,
    "start_time": "2023-07-08T07:28:25.278Z"
   },
   {
    "duration": 42,
    "start_time": "2023-07-08T07:28:25.284Z"
   },
   {
    "duration": 11,
    "start_time": "2023-07-08T07:28:25.327Z"
   },
   {
    "duration": 44,
    "start_time": "2023-07-08T07:28:25.340Z"
   },
   {
    "duration": 22,
    "start_time": "2023-07-08T07:28:25.386Z"
   },
   {
    "duration": 4,
    "start_time": "2023-07-08T07:28:25.410Z"
   },
   {
    "duration": 15,
    "start_time": "2023-07-08T07:28:25.417Z"
   },
   {
    "duration": 31,
    "start_time": "2023-07-08T07:28:25.434Z"
   },
   {
    "duration": 939,
    "start_time": "2023-07-08T07:28:25.466Z"
   },
   {
    "duration": 979,
    "start_time": "2023-07-08T07:28:26.407Z"
   },
   {
    "duration": 4,
    "start_time": "2023-07-08T07:28:27.388Z"
   },
   {
    "duration": 21,
    "start_time": "2023-07-08T07:28:27.395Z"
   },
   {
    "duration": 12,
    "start_time": "2023-07-08T07:28:27.417Z"
   },
   {
    "duration": 42,
    "start_time": "2023-07-08T07:28:27.431Z"
   },
   {
    "duration": 7,
    "start_time": "2023-07-08T07:28:27.479Z"
   },
   {
    "duration": 22,
    "start_time": "2023-07-08T07:28:27.488Z"
   },
   {
    "duration": 154,
    "start_time": "2023-07-08T07:28:27.512Z"
   },
   {
    "duration": 61,
    "start_time": "2023-07-08T07:28:27.668Z"
   },
   {
    "duration": 1346,
    "start_time": "2023-07-08T07:28:27.731Z"
   },
   {
    "duration": 365,
    "start_time": "2023-07-08T07:28:29.078Z"
   },
   {
    "duration": 10089,
    "start_time": "2023-07-08T07:28:29.445Z"
   },
   {
    "duration": 39,
    "start_time": "2023-07-08T07:28:39.536Z"
   },
   {
    "duration": 48,
    "start_time": "2023-07-08T07:33:44.525Z"
   },
   {
    "duration": 422,
    "start_time": "2023-07-08T07:35:16.001Z"
   },
   {
    "duration": 22958,
    "start_time": "2023-07-08T07:35:32.698Z"
   },
   {
    "duration": 2100,
    "start_time": "2023-07-08T07:37:00.682Z"
   },
   {
    "duration": 16,
    "start_time": "2023-07-08T07:37:02.784Z"
   },
   {
    "duration": 11,
    "start_time": "2023-07-08T07:37:02.802Z"
   },
   {
    "duration": 4,
    "start_time": "2023-07-08T07:37:02.815Z"
   },
   {
    "duration": 46,
    "start_time": "2023-07-08T07:37:02.820Z"
   },
   {
    "duration": 9,
    "start_time": "2023-07-08T07:37:02.869Z"
   },
   {
    "duration": 898,
    "start_time": "2023-07-08T07:37:02.880Z"
   },
   {
    "duration": 7,
    "start_time": "2023-07-08T07:37:03.780Z"
   },
   {
    "duration": 11,
    "start_time": "2023-07-08T07:37:03.789Z"
   },
   {
    "duration": 7,
    "start_time": "2023-07-08T07:37:03.804Z"
   },
   {
    "duration": 1125,
    "start_time": "2023-07-08T07:37:03.813Z"
   },
   {
    "duration": 41,
    "start_time": "2023-07-08T07:37:04.940Z"
   },
   {
    "duration": 27,
    "start_time": "2023-07-08T07:37:04.982Z"
   },
   {
    "duration": 5,
    "start_time": "2023-07-08T07:37:05.011Z"
   },
   {
    "duration": 63,
    "start_time": "2023-07-08T07:37:05.018Z"
   },
   {
    "duration": 14,
    "start_time": "2023-07-08T07:37:05.083Z"
   },
   {
    "duration": 38,
    "start_time": "2023-07-08T07:37:05.099Z"
   },
   {
    "duration": 39,
    "start_time": "2023-07-08T07:37:05.139Z"
   },
   {
    "duration": 10,
    "start_time": "2023-07-08T07:37:05.180Z"
   },
   {
    "duration": 18,
    "start_time": "2023-07-08T07:37:05.192Z"
   },
   {
    "duration": 10,
    "start_time": "2023-07-08T07:37:05.212Z"
   },
   {
    "duration": 905,
    "start_time": "2023-07-08T07:37:05.223Z"
   },
   {
    "duration": 1012,
    "start_time": "2023-07-08T07:37:06.130Z"
   },
   {
    "duration": 3,
    "start_time": "2023-07-08T07:37:07.144Z"
   },
   {
    "duration": 16,
    "start_time": "2023-07-08T07:37:07.161Z"
   },
   {
    "duration": 11,
    "start_time": "2023-07-08T07:37:07.180Z"
   },
   {
    "duration": 13,
    "start_time": "2023-07-08T07:37:07.193Z"
   },
   {
    "duration": 12,
    "start_time": "2023-07-08T07:37:07.210Z"
   },
   {
    "duration": 47,
    "start_time": "2023-07-08T07:37:07.224Z"
   },
   {
    "duration": 12,
    "start_time": "2023-07-08T07:37:07.275Z"
   },
   {
    "duration": 1677,
    "start_time": "2023-07-08T07:37:07.289Z"
   },
   {
    "duration": 22413,
    "start_time": "2023-07-08T07:37:08.968Z"
   },
   {
    "duration": 9536,
    "start_time": "2023-07-08T07:37:31.383Z"
   },
   {
    "duration": 16,
    "start_time": "2023-07-08T07:37:40.921Z"
   },
   {
    "duration": 194,
    "start_time": "2023-07-08T07:48:28.200Z"
   },
   {
    "duration": 235,
    "start_time": "2023-07-08T07:58:53.765Z"
   },
   {
    "duration": 2181,
    "start_time": "2023-07-08T08:36:44.626Z"
   },
   {
    "duration": 19,
    "start_time": "2023-07-08T08:36:46.810Z"
   },
   {
    "duration": 12,
    "start_time": "2023-07-08T08:36:46.831Z"
   },
   {
    "duration": 23,
    "start_time": "2023-07-08T08:36:46.845Z"
   },
   {
    "duration": 39,
    "start_time": "2023-07-08T08:36:46.874Z"
   },
   {
    "duration": 6,
    "start_time": "2023-07-08T08:36:46.915Z"
   },
   {
    "duration": 900,
    "start_time": "2023-07-08T08:36:46.923Z"
   },
   {
    "duration": 6,
    "start_time": "2023-07-08T08:36:47.825Z"
   },
   {
    "duration": 32,
    "start_time": "2023-07-08T08:36:47.833Z"
   },
   {
    "duration": 10,
    "start_time": "2023-07-08T08:36:47.872Z"
   },
   {
    "duration": 999,
    "start_time": "2023-07-08T08:36:47.884Z"
   },
   {
    "duration": 25,
    "start_time": "2023-07-08T08:36:48.885Z"
   },
   {
    "duration": 50,
    "start_time": "2023-07-08T08:36:48.912Z"
   },
   {
    "duration": 11,
    "start_time": "2023-07-08T08:36:48.964Z"
   },
   {
    "duration": 37,
    "start_time": "2023-07-08T08:36:48.981Z"
   },
   {
    "duration": 14,
    "start_time": "2023-07-08T08:36:49.020Z"
   },
   {
    "duration": 46,
    "start_time": "2023-07-08T08:36:49.036Z"
   },
   {
    "duration": 18,
    "start_time": "2023-07-08T08:36:49.084Z"
   },
   {
    "duration": 9,
    "start_time": "2023-07-08T08:36:49.104Z"
   },
   {
    "duration": 19,
    "start_time": "2023-07-08T08:36:49.115Z"
   },
   {
    "duration": 10,
    "start_time": "2023-07-08T08:36:49.136Z"
   },
   {
    "duration": 932,
    "start_time": "2023-07-08T08:36:49.147Z"
   },
   {
    "duration": 1022,
    "start_time": "2023-07-08T08:36:50.082Z"
   },
   {
    "duration": 4,
    "start_time": "2023-07-08T08:36:51.106Z"
   },
   {
    "duration": 63,
    "start_time": "2023-07-08T08:36:51.112Z"
   },
   {
    "duration": 21,
    "start_time": "2023-07-08T08:36:51.177Z"
   },
   {
    "duration": 32,
    "start_time": "2023-07-08T08:36:51.201Z"
   },
   {
    "duration": 9,
    "start_time": "2023-07-08T08:36:51.237Z"
   },
   {
    "duration": 44,
    "start_time": "2023-07-08T08:36:51.248Z"
   },
   {
    "duration": 80,
    "start_time": "2023-07-08T08:36:51.294Z"
   },
   {
    "duration": 1807,
    "start_time": "2023-07-08T08:36:51.381Z"
   },
   {
    "duration": 23959,
    "start_time": "2023-07-08T08:36:53.191Z"
   },
   {
    "duration": 299,
    "start_time": "2023-07-08T08:37:17.152Z"
   },
   {
    "duration": 9770,
    "start_time": "2023-07-08T08:37:17.453Z"
   },
   {
    "duration": 18,
    "start_time": "2023-07-08T08:37:27.226Z"
   },
   {
    "duration": 2076,
    "start_time": "2023-07-08T08:38:25.789Z"
   },
   {
    "duration": 16,
    "start_time": "2023-07-08T08:38:27.867Z"
   },
   {
    "duration": 14,
    "start_time": "2023-07-08T08:38:27.885Z"
   },
   {
    "duration": 5,
    "start_time": "2023-07-08T08:38:27.901Z"
   },
   {
    "duration": 25,
    "start_time": "2023-07-08T08:38:27.908Z"
   },
   {
    "duration": 41,
    "start_time": "2023-07-08T08:38:27.934Z"
   },
   {
    "duration": 907,
    "start_time": "2023-07-08T08:38:27.977Z"
   },
   {
    "duration": 5,
    "start_time": "2023-07-08T08:38:28.886Z"
   },
   {
    "duration": 48,
    "start_time": "2023-07-08T08:38:28.893Z"
   },
   {
    "duration": 43,
    "start_time": "2023-07-08T08:38:28.943Z"
   },
   {
    "duration": 998,
    "start_time": "2023-07-08T08:38:28.988Z"
   },
   {
    "duration": 35,
    "start_time": "2023-07-08T08:38:29.989Z"
   },
   {
    "duration": 45,
    "start_time": "2023-07-08T08:38:30.026Z"
   },
   {
    "duration": 47,
    "start_time": "2023-07-08T08:38:30.075Z"
   },
   {
    "duration": 52,
    "start_time": "2023-07-08T08:38:30.124Z"
   },
   {
    "duration": 22,
    "start_time": "2023-07-08T08:38:30.178Z"
   },
   {
    "duration": 55,
    "start_time": "2023-07-08T08:38:30.201Z"
   },
   {
    "duration": 115,
    "start_time": "2023-07-08T08:38:30.258Z"
   },
   {
    "duration": 63,
    "start_time": "2023-07-08T08:38:30.376Z"
   },
   {
    "duration": 46,
    "start_time": "2023-07-08T08:38:30.442Z"
   },
   {
    "duration": 56,
    "start_time": "2023-07-08T08:38:30.490Z"
   },
   {
    "duration": 933,
    "start_time": "2023-07-08T08:38:30.549Z"
   },
   {
    "duration": 1018,
    "start_time": "2023-07-08T08:38:31.484Z"
   },
   {
    "duration": 3,
    "start_time": "2023-07-08T08:38:32.503Z"
   },
   {
    "duration": 29,
    "start_time": "2023-07-08T08:38:32.508Z"
   },
   {
    "duration": 25,
    "start_time": "2023-07-08T08:38:32.539Z"
   },
   {
    "duration": 13,
    "start_time": "2023-07-08T08:38:32.575Z"
   },
   {
    "duration": 7,
    "start_time": "2023-07-08T08:38:32.590Z"
   },
   {
    "duration": 114,
    "start_time": "2023-07-08T08:38:32.598Z"
   },
   {
    "duration": 15,
    "start_time": "2023-07-08T08:38:32.714Z"
   },
   {
    "duration": 1651,
    "start_time": "2023-07-08T08:38:32.731Z"
   },
   {
    "duration": 23872,
    "start_time": "2023-07-08T08:38:34.385Z"
   },
   {
    "duration": 443,
    "start_time": "2023-07-08T08:38:58.269Z"
   },
   {
    "duration": 10124,
    "start_time": "2023-07-08T08:38:58.714Z"
   },
   {
    "duration": 39,
    "start_time": "2023-07-08T08:39:08.840Z"
   },
   {
    "duration": 1824,
    "start_time": "2023-07-08T08:39:33.292Z"
   },
   {
    "duration": 5086,
    "start_time": "2023-07-08T08:41:45.195Z"
   },
   {
    "duration": 2050,
    "start_time": "2023-07-08T08:43:20.185Z"
   },
   {
    "duration": 15,
    "start_time": "2023-07-08T08:43:22.237Z"
   },
   {
    "duration": 34,
    "start_time": "2023-07-08T08:43:22.253Z"
   },
   {
    "duration": 3,
    "start_time": "2023-07-08T08:43:22.290Z"
   },
   {
    "duration": 26,
    "start_time": "2023-07-08T08:43:22.295Z"
   },
   {
    "duration": 8,
    "start_time": "2023-07-08T08:43:22.323Z"
   },
   {
    "duration": 909,
    "start_time": "2023-07-08T08:43:22.332Z"
   },
   {
    "duration": 5,
    "start_time": "2023-07-08T08:43:23.243Z"
   },
   {
    "duration": 11,
    "start_time": "2023-07-08T08:43:23.262Z"
   },
   {
    "duration": 29,
    "start_time": "2023-07-08T08:43:23.275Z"
   },
   {
    "duration": 1159,
    "start_time": "2023-07-08T08:43:23.305Z"
   },
   {
    "duration": 44,
    "start_time": "2023-07-08T08:43:24.471Z"
   },
   {
    "duration": 31,
    "start_time": "2023-07-08T08:43:24.517Z"
   },
   {
    "duration": 8,
    "start_time": "2023-07-08T08:43:24.569Z"
   },
   {
    "duration": 57,
    "start_time": "2023-07-08T08:43:24.582Z"
   },
   {
    "duration": 11,
    "start_time": "2023-07-08T08:43:24.641Z"
   },
   {
    "duration": 19,
    "start_time": "2023-07-08T08:43:24.653Z"
   },
   {
    "duration": 23,
    "start_time": "2023-07-08T08:43:24.674Z"
   },
   {
    "duration": 8,
    "start_time": "2023-07-08T08:43:24.698Z"
   },
   {
    "duration": 13,
    "start_time": "2023-07-08T08:43:24.707Z"
   },
   {
    "duration": 13,
    "start_time": "2023-07-08T08:43:24.721Z"
   },
   {
    "duration": 901,
    "start_time": "2023-07-08T08:43:24.736Z"
   },
   {
    "duration": 1113,
    "start_time": "2023-07-08T08:43:25.639Z"
   },
   {
    "duration": 4,
    "start_time": "2023-07-08T08:43:26.759Z"
   },
   {
    "duration": 27,
    "start_time": "2023-07-08T08:43:26.766Z"
   },
   {
    "duration": 14,
    "start_time": "2023-07-08T08:43:26.795Z"
   },
   {
    "duration": 11,
    "start_time": "2023-07-08T08:43:26.811Z"
   },
   {
    "duration": 5,
    "start_time": "2023-07-08T08:43:26.824Z"
   },
   {
    "duration": 24,
    "start_time": "2023-07-08T08:43:26.830Z"
   },
   {
    "duration": 31,
    "start_time": "2023-07-08T08:43:26.856Z"
   },
   {
    "duration": 1560,
    "start_time": "2023-07-08T08:43:26.889Z"
   },
   {
    "duration": 23582,
    "start_time": "2023-07-08T08:43:28.463Z"
   },
   {
    "duration": 1638,
    "start_time": "2023-07-08T08:43:52.047Z"
   },
   {
    "duration": 5279,
    "start_time": "2023-07-08T08:43:53.690Z"
   },
   {
    "duration": 24,
    "start_time": "2023-07-08T08:43:58.977Z"
   },
   {
    "duration": 410,
    "start_time": "2023-07-08T08:49:29.790Z"
   },
   {
    "duration": 32,
    "start_time": "2023-07-08T08:50:22.491Z"
   },
   {
    "duration": 23834,
    "start_time": "2023-07-08T08:50:32.251Z"
   },
   {
    "duration": 25344,
    "start_time": "2023-07-08T08:54:08.677Z"
   },
   {
    "duration": 52,
    "start_time": "2023-07-08T10:33:19.152Z"
   },
   {
    "duration": 1695,
    "start_time": "2023-07-08T10:33:32.613Z"
   },
   {
    "duration": 13,
    "start_time": "2023-07-08T10:33:34.310Z"
   },
   {
    "duration": 10,
    "start_time": "2023-07-08T10:33:34.324Z"
   },
   {
    "duration": 3,
    "start_time": "2023-07-08T10:33:34.336Z"
   },
   {
    "duration": 22,
    "start_time": "2023-07-08T10:33:34.340Z"
   },
   {
    "duration": 5,
    "start_time": "2023-07-08T10:33:34.363Z"
   },
   {
    "duration": 666,
    "start_time": "2023-07-08T10:33:34.369Z"
   },
   {
    "duration": 3,
    "start_time": "2023-07-08T10:33:35.036Z"
   },
   {
    "duration": 17,
    "start_time": "2023-07-08T10:33:35.041Z"
   },
   {
    "duration": 11,
    "start_time": "2023-07-08T10:33:35.060Z"
   },
   {
    "duration": 762,
    "start_time": "2023-07-08T10:33:35.073Z"
   },
   {
    "duration": 19,
    "start_time": "2023-07-08T10:33:35.836Z"
   },
   {
    "duration": 23,
    "start_time": "2023-07-08T10:33:35.856Z"
   },
   {
    "duration": 3,
    "start_time": "2023-07-08T10:33:35.880Z"
   },
   {
    "duration": 43,
    "start_time": "2023-07-08T10:33:35.884Z"
   },
   {
    "duration": 11,
    "start_time": "2023-07-08T10:33:35.928Z"
   },
   {
    "duration": 31,
    "start_time": "2023-07-08T10:33:35.941Z"
   },
   {
    "duration": 36,
    "start_time": "2023-07-08T10:33:35.973Z"
   },
   {
    "duration": 18,
    "start_time": "2023-07-08T10:33:36.010Z"
   },
   {
    "duration": 15,
    "start_time": "2023-07-08T10:33:36.030Z"
   },
   {
    "duration": 20,
    "start_time": "2023-07-08T10:33:36.046Z"
   },
   {
    "duration": 708,
    "start_time": "2023-07-08T10:33:36.067Z"
   },
   {
    "duration": 711,
    "start_time": "2023-07-08T10:33:36.777Z"
   },
   {
    "duration": 3,
    "start_time": "2023-07-08T10:33:37.489Z"
   },
   {
    "duration": 17,
    "start_time": "2023-07-08T10:33:37.501Z"
   },
   {
    "duration": 24,
    "start_time": "2023-07-08T10:33:37.519Z"
   },
   {
    "duration": 21,
    "start_time": "2023-07-08T10:33:37.544Z"
   },
   {
    "duration": 17,
    "start_time": "2023-07-08T10:33:37.568Z"
   },
   {
    "duration": 81,
    "start_time": "2023-07-08T10:33:37.587Z"
   },
   {
    "duration": 88,
    "start_time": "2023-07-08T10:33:37.670Z"
   },
   {
    "duration": 1464,
    "start_time": "2023-07-08T10:33:45.875Z"
   },
   {
    "duration": 13,
    "start_time": "2023-07-08T10:33:47.341Z"
   },
   {
    "duration": 9,
    "start_time": "2023-07-08T10:33:47.356Z"
   },
   {
    "duration": 3,
    "start_time": "2023-07-08T10:33:47.366Z"
   },
   {
    "duration": 20,
    "start_time": "2023-07-08T10:33:47.371Z"
   },
   {
    "duration": 7,
    "start_time": "2023-07-08T10:33:47.392Z"
   },
   {
    "duration": 755,
    "start_time": "2023-07-08T10:33:47.400Z"
   },
   {
    "duration": 4,
    "start_time": "2023-07-08T10:33:48.156Z"
   },
   {
    "duration": 6,
    "start_time": "2023-07-08T10:33:48.161Z"
   },
   {
    "duration": 5,
    "start_time": "2023-07-08T10:33:48.169Z"
   },
   {
    "duration": 751,
    "start_time": "2023-07-08T10:33:48.175Z"
   },
   {
    "duration": 19,
    "start_time": "2023-07-08T10:33:48.928Z"
   },
   {
    "duration": 21,
    "start_time": "2023-07-08T10:33:48.949Z"
   },
   {
    "duration": 4,
    "start_time": "2023-07-08T10:33:48.971Z"
   },
   {
    "duration": 26,
    "start_time": "2023-07-08T10:33:48.999Z"
   },
   {
    "duration": 9,
    "start_time": "2023-07-08T10:33:49.026Z"
   },
   {
    "duration": 16,
    "start_time": "2023-07-08T10:33:49.036Z"
   },
   {
    "duration": 23,
    "start_time": "2023-07-08T10:33:49.053Z"
   },
   {
    "duration": 8,
    "start_time": "2023-07-08T10:33:49.077Z"
   },
   {
    "duration": 18,
    "start_time": "2023-07-08T10:33:49.086Z"
   },
   {
    "duration": 7,
    "start_time": "2023-07-08T10:33:49.105Z"
   },
   {
    "duration": 663,
    "start_time": "2023-07-08T10:33:49.114Z"
   },
   {
    "duration": 725,
    "start_time": "2023-07-08T10:33:49.778Z"
   },
   {
    "duration": 2,
    "start_time": "2023-07-08T10:33:50.505Z"
   },
   {
    "duration": 22,
    "start_time": "2023-07-08T10:33:50.508Z"
   },
   {
    "duration": 10,
    "start_time": "2023-07-08T10:33:50.532Z"
   },
   {
    "duration": 21,
    "start_time": "2023-07-08T10:33:50.543Z"
   },
   {
    "duration": 4,
    "start_time": "2023-07-08T10:33:50.568Z"
   },
   {
    "duration": 16,
    "start_time": "2023-07-08T10:33:50.574Z"
   },
   {
    "duration": 86,
    "start_time": "2023-07-08T10:33:50.600Z"
   },
   {
    "duration": 983,
    "start_time": "2023-07-08T10:33:50.688Z"
   },
   {
    "duration": 13496,
    "start_time": "2023-07-08T10:33:51.672Z"
   },
   {
    "duration": 1443,
    "start_time": "2023-07-08T10:34:05.169Z"
   },
   {
    "duration": 3626,
    "start_time": "2023-07-08T10:34:06.614Z"
   },
   {
    "duration": 13,
    "start_time": "2023-07-08T10:34:10.241Z"
   },
   {
    "duration": 14017,
    "start_time": "2023-07-08T10:34:10.256Z"
   },
   {
    "duration": 1613,
    "start_time": "2023-07-08T10:46:41.443Z"
   },
   {
    "duration": 13,
    "start_time": "2023-07-08T10:46:43.058Z"
   },
   {
    "duration": 11,
    "start_time": "2023-07-08T10:46:43.072Z"
   },
   {
    "duration": 3,
    "start_time": "2023-07-08T10:46:43.085Z"
   },
   {
    "duration": 28,
    "start_time": "2023-07-08T10:46:43.089Z"
   },
   {
    "duration": 11,
    "start_time": "2023-07-08T10:46:43.119Z"
   },
   {
    "duration": 684,
    "start_time": "2023-07-08T10:46:43.131Z"
   },
   {
    "duration": 3,
    "start_time": "2023-07-08T10:46:43.816Z"
   },
   {
    "duration": 7,
    "start_time": "2023-07-08T10:46:43.820Z"
   },
   {
    "duration": 11,
    "start_time": "2023-07-08T10:46:43.829Z"
   },
   {
    "duration": 729,
    "start_time": "2023-07-08T10:46:43.841Z"
   },
   {
    "duration": 27,
    "start_time": "2023-07-08T10:46:44.571Z"
   },
   {
    "duration": 21,
    "start_time": "2023-07-08T10:46:44.600Z"
   },
   {
    "duration": 5,
    "start_time": "2023-07-08T10:46:44.622Z"
   },
   {
    "duration": 31,
    "start_time": "2023-07-08T10:46:44.628Z"
   },
   {
    "duration": 11,
    "start_time": "2023-07-08T10:46:44.660Z"
   },
   {
    "duration": 38,
    "start_time": "2023-07-08T10:46:44.672Z"
   },
   {
    "duration": 14,
    "start_time": "2023-07-08T10:46:44.712Z"
   },
   {
    "duration": 10,
    "start_time": "2023-07-08T10:46:44.728Z"
   },
   {
    "duration": 12,
    "start_time": "2023-07-08T10:46:44.739Z"
   },
   {
    "duration": 7,
    "start_time": "2023-07-08T10:46:44.752Z"
   },
   {
    "duration": 684,
    "start_time": "2023-07-08T10:46:44.760Z"
   },
   {
    "duration": 758,
    "start_time": "2023-07-08T10:46:45.446Z"
   },
   {
    "duration": 4,
    "start_time": "2023-07-08T10:46:46.206Z"
   },
   {
    "duration": 14,
    "start_time": "2023-07-08T10:46:46.212Z"
   },
   {
    "duration": 18,
    "start_time": "2023-07-08T10:46:46.228Z"
   },
   {
    "duration": 18,
    "start_time": "2023-07-08T10:46:46.248Z"
   },
   {
    "duration": 13,
    "start_time": "2023-07-08T10:46:46.268Z"
   },
   {
    "duration": 19,
    "start_time": "2023-07-08T10:46:46.283Z"
   },
   {
    "duration": 108,
    "start_time": "2023-07-08T10:46:46.304Z"
   },
   {
    "duration": 795,
    "start_time": "2023-07-08T10:46:46.414Z"
   },
   {
    "duration": 13401,
    "start_time": "2023-07-08T10:46:47.210Z"
   },
   {
    "duration": 1359,
    "start_time": "2023-07-08T10:47:00.613Z"
   },
   {
    "duration": 3628,
    "start_time": "2023-07-08T10:47:01.974Z"
   },
   {
    "duration": 15,
    "start_time": "2023-07-08T10:47:05.604Z"
   },
   {
    "duration": 14414,
    "start_time": "2023-07-08T10:47:05.621Z"
   },
   {
    "duration": 976,
    "start_time": "2023-07-08T10:49:13.350Z"
   },
   {
    "duration": 13665,
    "start_time": "2023-07-08T10:53:22.311Z"
   },
   {
    "duration": 2054,
    "start_time": "2023-07-09T03:27:24.744Z"
   },
   {
    "duration": 12,
    "start_time": "2023-07-09T03:27:26.800Z"
   },
   {
    "duration": 12,
    "start_time": "2023-07-09T03:27:26.814Z"
   },
   {
    "duration": 7,
    "start_time": "2023-07-09T03:27:26.827Z"
   },
   {
    "duration": 25,
    "start_time": "2023-07-09T03:27:26.835Z"
   },
   {
    "duration": 5,
    "start_time": "2023-07-09T03:27:26.861Z"
   },
   {
    "duration": 697,
    "start_time": "2023-07-09T03:27:26.868Z"
   },
   {
    "duration": 11,
    "start_time": "2023-07-09T03:27:27.567Z"
   },
   {
    "duration": 19,
    "start_time": "2023-07-09T03:27:27.580Z"
   },
   {
    "duration": 19,
    "start_time": "2023-07-09T03:27:27.602Z"
   },
   {
    "duration": 843,
    "start_time": "2023-07-09T03:27:27.623Z"
   },
   {
    "duration": 24,
    "start_time": "2023-07-09T03:27:28.474Z"
   },
   {
    "duration": 24,
    "start_time": "2023-07-09T03:27:28.499Z"
   },
   {
    "duration": 4,
    "start_time": "2023-07-09T03:27:28.525Z"
   },
   {
    "duration": 69,
    "start_time": "2023-07-09T03:27:28.531Z"
   },
   {
    "duration": 12,
    "start_time": "2023-07-09T03:27:28.602Z"
   },
   {
    "duration": 28,
    "start_time": "2023-07-09T03:27:28.615Z"
   },
   {
    "duration": 43,
    "start_time": "2023-07-09T03:27:28.645Z"
   },
   {
    "duration": 4,
    "start_time": "2023-07-09T03:27:28.690Z"
   },
   {
    "duration": 19,
    "start_time": "2023-07-09T03:27:28.695Z"
   },
   {
    "duration": 12,
    "start_time": "2023-07-09T03:27:28.716Z"
   },
   {
    "duration": 752,
    "start_time": "2023-07-09T03:27:28.729Z"
   },
   {
    "duration": 820,
    "start_time": "2023-07-09T03:27:29.483Z"
   },
   {
    "duration": 3,
    "start_time": "2023-07-09T03:27:30.305Z"
   },
   {
    "duration": 57,
    "start_time": "2023-07-09T03:27:30.309Z"
   },
   {
    "duration": 41,
    "start_time": "2023-07-09T03:27:30.367Z"
   },
   {
    "duration": 39,
    "start_time": "2023-07-09T03:27:30.409Z"
   },
   {
    "duration": 52,
    "start_time": "2023-07-09T03:27:30.451Z"
   },
   {
    "duration": 74,
    "start_time": "2023-07-09T03:27:30.505Z"
   },
   {
    "duration": 114,
    "start_time": "2023-07-09T03:27:30.580Z"
   },
   {
    "duration": 9,
    "start_time": "2023-07-09T03:28:44.733Z"
   },
   {
    "duration": 696,
    "start_time": "2023-07-09T03:28:50.088Z"
   },
   {
    "duration": 918,
    "start_time": "2023-07-09T03:29:03.854Z"
   },
   {
    "duration": 15731,
    "start_time": "2023-07-09T03:29:20.620Z"
   },
   {
    "duration": 1186,
    "start_time": "2023-07-09T03:29:36.353Z"
   },
   {
    "duration": 10,
    "start_time": "2023-07-09T03:30:35.152Z"
   },
   {
    "duration": 48,
    "start_time": "2024-01-30T04:56:13.492Z"
   },
   {
    "duration": 2208,
    "start_time": "2024-01-30T04:56:19.206Z"
   },
   {
    "duration": 117,
    "start_time": "2024-01-30T04:56:21.416Z"
   },
   {
    "duration": 6,
    "start_time": "2024-01-30T04:58:50.133Z"
   },
   {
    "duration": 80,
    "start_time": "2024-01-30T04:58:52.048Z"
   },
   {
    "duration": 10,
    "start_time": "2024-01-30T05:00:42.310Z"
   },
   {
    "duration": 1474,
    "start_time": "2024-01-30T05:00:43.715Z"
   },
   {
    "duration": 31,
    "start_time": "2024-01-30T05:00:45.191Z"
   },
   {
    "duration": 13,
    "start_time": "2024-01-30T05:00:45.223Z"
   },
   {
    "duration": 43,
    "start_time": "2024-01-30T05:00:45.238Z"
   },
   {
    "duration": 27,
    "start_time": "2024-01-30T05:00:45.283Z"
   },
   {
    "duration": 56,
    "start_time": "2024-01-30T05:00:45.311Z"
   },
   {
    "duration": 10,
    "start_time": "2024-01-30T05:00:45.369Z"
   },
   {
    "duration": 824,
    "start_time": "2024-01-30T05:00:45.381Z"
   },
   {
    "duration": 4,
    "start_time": "2024-01-30T05:00:46.206Z"
   },
   {
    "duration": 12,
    "start_time": "2024-01-30T05:00:46.211Z"
   },
   {
    "duration": 11,
    "start_time": "2024-01-30T05:00:46.225Z"
   },
   {
    "duration": 873,
    "start_time": "2024-01-30T05:00:46.237Z"
   },
   {
    "duration": 20,
    "start_time": "2024-01-30T05:00:47.112Z"
   },
   {
    "duration": 48,
    "start_time": "2024-01-30T05:00:47.134Z"
   },
   {
    "duration": 4,
    "start_time": "2024-01-30T05:00:47.183Z"
   },
   {
    "duration": 33,
    "start_time": "2024-01-30T05:00:47.189Z"
   },
   {
    "duration": 9,
    "start_time": "2024-01-30T05:00:47.224Z"
   },
   {
    "duration": 28,
    "start_time": "2024-01-30T05:00:47.234Z"
   },
   {
    "duration": 26,
    "start_time": "2024-01-30T05:00:47.265Z"
   },
   {
    "duration": 4,
    "start_time": "2024-01-30T05:00:47.298Z"
   },
   {
    "duration": 11,
    "start_time": "2024-01-30T05:00:47.304Z"
   },
   {
    "duration": 8,
    "start_time": "2024-01-30T05:00:47.316Z"
   },
   {
    "duration": 794,
    "start_time": "2024-01-30T05:00:47.325Z"
   },
   {
    "duration": 985,
    "start_time": "2024-01-30T05:00:48.121Z"
   },
   {
    "duration": 3,
    "start_time": "2024-01-30T05:00:49.108Z"
   },
   {
    "duration": 11,
    "start_time": "2024-01-30T05:00:49.112Z"
   },
   {
    "duration": 33,
    "start_time": "2024-01-30T05:00:49.124Z"
   },
   {
    "duration": 15,
    "start_time": "2024-01-30T05:00:49.162Z"
   },
   {
    "duration": 7,
    "start_time": "2024-01-30T05:00:49.185Z"
   },
   {
    "duration": 96,
    "start_time": "2024-01-30T05:00:49.194Z"
   },
   {
    "duration": 18,
    "start_time": "2024-01-30T05:00:49.292Z"
   },
   {
    "duration": 863,
    "start_time": "2024-01-30T05:00:49.312Z"
   },
   {
    "duration": 1065,
    "start_time": "2024-01-30T05:00:50.179Z"
   },
   {
    "duration": 15467,
    "start_time": "2024-01-30T05:00:51.245Z"
   },
   {
    "duration": 1730,
    "start_time": "2024-01-30T05:01:06.713Z"
   },
   {
    "duration": 3961,
    "start_time": "2024-01-30T05:01:08.444Z"
   },
   {
    "duration": 15,
    "start_time": "2024-01-30T05:01:12.407Z"
   },
   {
    "duration": 845,
    "start_time": "2024-01-30T05:05:14.102Z"
   },
   {
    "duration": 1678,
    "start_time": "2024-02-02T10:57:03.455Z"
   },
   {
    "duration": 118,
    "start_time": "2024-02-02T10:57:05.135Z"
   },
   {
    "duration": 12,
    "start_time": "2024-02-02T10:57:55.053Z"
   }
  ],
  "hide_input": false,
  "kernelspec": {
   "display_name": "Python 3 (ipykernel)",
   "language": "python",
   "name": "python3"
  },
  "language_info": {
   "codemirror_mode": {
    "name": "ipython",
    "version": 3
   },
   "file_extension": ".py",
   "mimetype": "text/x-python",
   "name": "python",
   "nbconvert_exporter": "python",
   "pygments_lexer": "ipython3",
   "version": "3.9.7"
  },
  "toc": {
   "base_numbering": 1,
   "nav_menu": {},
   "number_sections": true,
   "sideBar": true,
   "skip_h1_title": true,
   "title_cell": "Table of Contents",
   "title_sidebar": "Contents",
   "toc_cell": false,
   "toc_position": {},
   "toc_section_display": true,
   "toc_window_display": false
  }
 },
 "nbformat": 4,
 "nbformat_minor": 2
}
